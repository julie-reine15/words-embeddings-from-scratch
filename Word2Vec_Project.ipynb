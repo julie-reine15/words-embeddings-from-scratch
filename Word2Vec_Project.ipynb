{
 "cells": [
  {
   "cell_type": "markdown",
   "id": "b6eed90c-6c75-4d4d-8e9c-d26ef97f517f",
   "metadata": {},
   "source": [
    "# Word2Vec : Creating Word Embeddings with Pytorch"
   ]
  },
  {
   "cell_type": "markdown",
   "source": [
    "#### Justine Tu - INALCO\n",
    "#### Kenza Piter - INALCO\n",
    "#### Julie Bauné - INALCO"
   ],
   "metadata": {
    "collapsed": false
   }
  },
  {
   "cell_type": "markdown",
   "id": "6cf0eeec-d3ec-4c2c-897c-0bbdf3066151",
   "metadata": {},
   "source": [
    "References : \n",
    "* https://towardsdatascience.com/understanding-feature-engineering-part-4-deep-learning-methods-for-text-data-96c44370bbfa\n",
    "* https://www.coursera.org/learn/probabilistic-models-in-nlp/home/week/4"
   ]
  },
  {
   "cell_type": "markdown",
   "id": "7ac9c73c-640c-4a62-aa30-24405d784556",
   "metadata": {},
   "source": [
    "## Why do we need word embeddings ?\n",
    "\n",
    "Before thinking about word embeddings, when doing NLP, we are interested in being able to transform sentences or words into numeric representations, to then feed them to our algorithms and perform predictions.  Some simple methods of doing so include using term frequencies or n-grams among other things (counting the number of times a word appears in positive tweets vs. negative tweets for example)...  While these can work quite well in some cases, sentences are essentially represented as \"Bags of Words\", meaning a lot of information is lost : sentence structure, semantics, what the usual context for a word is (the word *cat* for example may be frequently accompanied by *a* or *the* on the left since it's a noun).  \n",
    "\n",
    "So how can we find more expressive numeric representations ?  This motivated NLP researchers to create more sophisticated word representations, known as *word embeddings*.  These are *dense* vectors (vs. *sparse* vectors, vectors with many dimensions where most of the values are 0s) and are now fundamental to any machine learning algorithm in NLP."
   ]
  },
  {
   "cell_type": "markdown",
   "id": "f85fd423-1218-42b6-9045-f83f4c064fff",
   "metadata": {
    "tags": []
   },
   "source": [
    "## What principle do these word embeddings rely on ?\n",
    "\n",
    "Creating word embeddings relies on the idea that \"You shall know a word by the company it keeps\" (Firth, 1957). In [distributional semantics](https://en.wikipedia.org/wiki/Distributional_semantics#Distributional_Hypothesis), the distributional hypothesis tells us that words which occur and are used in the same context are semantically similar to one another.  The word vectors (embeddings) created take into account this contextual information, and the resulting vectors for words that have *similar contexts* end up in the same area of the vector space :\n",
    "\n",
    "<img src='vector_space_example.jpg'/>"
   ]
  },
  {
   "cell_type": "markdown",
   "id": "9c82bb15-1ff2-42d1-8f68-fed1e9386c41",
   "metadata": {},
   "source": [
    "## The Word2Vec Model\n",
    "\n",
    "This model was created by Google in 2013 and is a predictive deep learning based model :  given neighboring words, the neural network has to *predict* the word to be found at the center of the context given (this is only one of the possible architectures).\n",
    "\n",
    "\n",
    "Essentially, this model can leverage raw text (no annotations needed), create a vocabulary of possible words and generate dense word embeddings for each word. We can even specify the size of the word embedding vectors, which makes the dimensionality of the vectors much lower than the high-dimensional sparse vectors built using traditional Bag of Words models.\n",
    "\n",
    "The model architecture we will be looking at is called the **Continuous Bag of Words Model**."
   ]
  },
  {
   "cell_type": "markdown",
   "id": "ff704030-bc14-4be7-b0a6-c793005c3d11",
   "metadata": {},
   "source": [
    "## The Continuous Bag of Words Model (CBOW) "
   ]
  },
  {
   "cell_type": "markdown",
   "id": "89ba3bf7-15d1-4113-809f-f24416957de4",
   "metadata": {},
   "source": [
    "To create word embeddings, you need a corpus and a learning algorithm. The *by-product* of this task would be a set of word embeddings. In the case of the continuous bag-of-words model, the objective of the task is to predict a missing word based on the surrounding words.\n",
    "\n",
    "<div style='text-align:center;'><img src='Embedding_method.png'/></div>"
   ]
  },
  {
   "cell_type": "markdown",
   "id": "73f7205a-3ac5-4ad7-84e3-b170b02ff3c8",
   "metadata": {},
   "source": [
    "The CBOW model architecture tries to predict the current target word (the center word) based on context words (the surrounding words). Let's take a simple example :\n",
    "> **“the quick brown fox jumps over the lazy dog”**.\n",
    "\n",
    "The sentence will be transformed into a series of examples for the model to train on : each example will consist of a (context_window, target_word) tuple.  Considering a context window of size $C=2$ (2 words to the left, 2 to the right, so 4 total) we would obtain :\n",
    "> Ex. 1 : (*[the, quick, fox, jumps]*, brown)  \n",
    "> Ex. 2 : (*[quick, brown, jumps, over]*, fox)  \n",
    "> Etc ...\n",
    "\n",
    "The neural net's task will be to predict the target word based on the context window words."
   ]
  },
  {
   "cell_type": "markdown",
   "id": "0e16ca46-8d17-4917-93f9-756699d07969",
   "metadata": {},
   "source": [
    "This means we can model this problem as a classification task such that we take in the context words as our input (X) and try to predict the target word (Y) out of all the possible words in the vocabulary.  This is essentialy a *multiclass* classification task (only 1 of the possible classes is correct), where a class is equivalent to a word in the vocabulary.  Here is an overview of the process : \n",
    "\n",
    "<div style='text-align:center;'><img src=\"CBOW_overview.png\"/></div>"
   ]
  },
  {
   "cell_type": "markdown",
   "id": "0a4f57ea-a2eb-43f4-9f29-badef4ade538",
   "metadata": {},
   "source": [
    "## Implementing the CBOW model\n",
    "\n",
    "Using text from Shakespeare's plays, you will implement the CBOW model from scratch, using pytorch to simplify the creation of the network architecture and training loop. The implementation will be divided into 4 parts: \n",
    "* **Building the corpus Vocab**\n",
    "* **Create the (context_window, target_word) examples**\n",
    "* **Build the neural network architecture**\n",
    "* **Train the model**\n",
    "* **Visualize the word embeddings**"
   ]
  },
  {
   "cell_type": "markdown",
   "id": "83df0d1b-a1ca-482a-a951-af8197f26b2d",
   "metadata": {},
   "source": [
    "### 1. Building the corpus Vocab"
   ]
  },
  {
   "cell_type": "markdown",
   "id": "b507afe8-8d4b-40f1-becb-81ee06da5c3c",
   "metadata": {},
   "source": [
    "In the next cell, the text has been loaded and split into tokens for you :"
   ]
  },
  {
   "cell_type": "code",
   "execution_count": 1,
   "id": "1b1b1cf6-51a2-446f-8b4e-5a62954a8984",
   "metadata": {},
   "outputs": [
    {
     "name": "stdout",
     "output_type": "stream",
     "text": [
      "Number of tokens: 60976 \n",
      " First 15 tokens :  ['o', 'for', 'a', 'muse', 'of', 'fire', '.', 'that', 'would', 'ascend', 'the', 'brightest', 'heaven', 'of', 'invention']\n"
     ]
    }
   ],
   "source": [
    "from nltk.tokenize import word_tokenize\n",
    "import re\n",
    "\n",
    "\n",
    "\n",
    "with open('Shakespeare.txt') as f:\n",
    "    text = f.read()   \n",
    "text = re.sub(r'[,!?;-]', '.',text)                                 #  Punktuations are replaced by .\n",
    "text = word_tokenize(text)                                     #  Tokenize string to words\n",
    "text = [ ch.lower() for ch in text if ch.isalpha() or ch == '.']    #  Lower case and drop non-alphabetical tokens\n",
    "print(\"Number of tokens:\", len(text), '\\n First 15 tokens : ', text[:15])  #  print data sample"
   ]
  },
  {
   "cell_type": "markdown",
   "source": [],
   "metadata": {
    "collapsed": false
   }
  },
  {
   "cell_type": "markdown",
   "source": [
    "Next you must :\n",
    "* Get the vocabulary and vocabulary size (the set() function can be useful...)\n",
    "* Create 2 dictionaries :\n",
    "    * word2idx => keys are words in vocab, values are a unique number you must attribute to each word\n",
    "    * idx2word => keys are a unique number, values are the corresponding word\n",
    "    These dictionaries will allow you to map words in the vocab to unique numbers.  This is necessary as you will be feeding these numbers to the model, not the words directly.\n",
    "* Create the (context, target) example pairs and store them in a list called data."
   ],
   "metadata": {
    "collapsed": false
   }
  },
  {
   "cell_type": "markdown",
   "id": "1c33b36f-b63a-4127-9a07-b86284a80491",
   "metadata": {},
   "source": []
  },
  {
   "cell_type": "code",
   "execution_count": 2,
   "id": "7fd682c6-2b2c-4f8f-b951-3a7639fe3616",
   "metadata": {},
   "outputs": [
    {
     "name": "stdout",
     "output_type": "stream",
     "text": [
      "Vocab size = 5775 (should be equal to 5775)\n"
     ]
    }
   ],
   "source": [
    "# get the vocab and vocab length \n",
    "vocab = set(text)\n",
    "vocab_size = len(vocab)\n",
    "print(f\"Vocab size = {vocab_size} (should be equal to 5775)\")"
   ]
  },
  {
   "cell_type": "code",
   "execution_count": 3,
   "id": "ae6492e7-adcc-453c-a05f-6cb59688c154",
   "metadata": {},
   "outputs": [
    {
     "name": "stdout",
     "output_type": "stream",
     "text": [
      "Index of the word 'king' :   1390\n",
      "Word which has index 250:   fist\n"
     ]
    }
   ],
   "source": [
    "# create the word2idx and idx2word dictionaries:\n",
    "word2idx = {word: i for i, word in enumerate(vocab)}\n",
    "idx2word = {i: word for i, word in enumerate(vocab)}\n",
    "\n",
    "\n",
    "# example of word to index mapping\n",
    "print(\"Index of the word 'king' :  \",word2idx['king'] )\n",
    "print(\"Word which has index 250:  \",idx2word[250] )"
   ]
  },
  {
   "cell_type": "code",
   "execution_count": 4,
   "id": "b1eaacbd-ba33-409f-8db7-f751e8540e81",
   "metadata": {
    "tags": []
   },
   "outputs": [
    {
     "name": "stdout",
     "output_type": "stream",
     "text": [
      "first 5 words : ['o', 'for', 'a', 'muse', 'of']\n",
      "example n°1 = (['o', 'for', 'muse', 'of'], 'a')\n",
      "context = ['o', 'for', 'muse', 'of']\n",
      "target = a\n",
      "Number of examples : 60972\n"
     ]
    }
   ],
   "source": [
    "# Going through the text, create a list of data examples, where each example consists of a (context, target) tuple.\n",
    "# The context can be represented as a list of the context words (2 before and 2 after)\n",
    "# You may start at word idx number 2 and end on the second to last word.\n",
    "\n",
    "data = []\n",
    "\n",
    "# loop to make training examples\n",
    "for i in range(2, len(text)-2):\n",
    "    data.append(([text[i-2], text[i-1], text[i+1], text[i+2]], text[i]))\n",
    "\n",
    "\n",
    "# check if it works for the first example   \n",
    "print(f'first 5 words : {text[:5]}')\n",
    "print(f'example n°1 = {data[0]}')\n",
    "print(f'context = {data[0][0]}')\n",
    "print(f'target = {data[0][1]}')\n",
    "\n",
    "print(f'Number of examples : {len(data)}')"
   ]
  },
  {
   "cell_type": "markdown",
   "id": "cda9daac-b340-4b08-84d1-785299dd5958",
   "metadata": {},
   "source": [
    "Expected output is :\n",
    "first 5 words : ['o', 'for', 'a', 'muse', 'of']  \n",
    "example n°1 = (['o', 'for', 'muse', 'of'], 'a')  \n",
    "context = ['o', 'for', 'muse', 'of']  \n",
    "target = a  \n",
    "Number of examples : 60972"
   ]
  },
  {
   "cell_type": "markdown",
   "id": "2ec393b3-ece5-4da9-8cc5-b0441d607c19",
   "metadata": {},
   "source": [
    "### 2. Building the neural net architecture with pytorch"
   ]
  },
  {
   "cell_type": "code",
   "execution_count": 5,
   "id": "ac619996-e928-4a40-8d84-2978df3ca21f",
   "metadata": {},
   "outputs": [],
   "source": [
    "# https://pytorch.org/get-started/locally/ to see how to install pytorch if you\n",
    "# are working on your own computer\n",
    "# however using googlecolab might be easier\n",
    "import torch\n",
    "import torch.nn as nn\n",
    "import torch.nn.functional as F\n",
    "import torch.optim as optim"
   ]
  },
  {
   "cell_type": "markdown",
   "id": "791fadcc-bc27-4bce-af1e-2c3e3d85a591",
   "metadata": {},
   "source": [
    "#### 2.1 Batching the data examples"
   ]
  },
  {
   "cell_type": "markdown",
   "id": "0f8713d6-abf0-4785-b902-3bfb9bf2828a",
   "metadata": {},
   "source": [
    "In order to accelerate the training process, we can **batch** training examples together.  This means that instead of feeding the model 1 example at a time, we feed it 16 or 32 or 64 or 128 in one go.  Pytorch's `Dataloader`class takes care of this for you.  It takes as arguments a pytorch `Dataset`(`TensorDataset` in this case) and a `batch_size`.  \n",
    "To be instantiated, the `TensorDataset` class needs a pytorch tensor (`torch.tensor(listOfValues)`) of inputs and targets as arguments.  In this case you will need to create a tensor of contexts, where 1 context has to be a list of indices corresponding to the context words, and a tensor of targets, where the target words are also respresented by their idx.  Use the word2idx dictionary and data list you created previously."
   ]
  },
  {
   "cell_type": "code",
   "execution_count": 6,
   "outputs": [],
   "source": [
    "from torch.utils.data import TensorDataset, DataLoader\n",
    "\n",
    "contexts = []\n",
    "targets = []\n",
    "\n",
    "for cntxt, trgt in data:\n",
    "    c = []\n",
    "    for word in cntxt:\n",
    "        c.append(word2idx.get(word))\n",
    "    contexts.append(c)\n",
    "    targets.append(word2idx.get(trgt))\n",
    "\n",
    "assert len(contexts) == len(targets)\n",
    "\n",
    "contexts = torch.tensor(contexts)\n",
    "targets = torch.tensor(targets)\n",
    "\n",
    "dataset = TensorDataset(contexts, targets)\n",
    "dataloader = DataLoader(dataset, batch_size=128)"
   ],
   "metadata": {
    "collapsed": false
   }
  },
  {
   "cell_type": "code",
   "execution_count": 7,
   "id": "7aa3aae6-2d8b-4c50-8826-fa2d69f3a755",
   "metadata": {},
   "outputs": [
    {
     "name": "stdout",
     "output_type": "stream",
     "text": [
      "torch.Size([60972, 4])\n",
      "tensor([[5572, 1005, 2331, 4752],\n",
      "        [1005,  486, 4752, 2895]])\n",
      "tensor([ 486, 2331])\n"
     ]
    }
   ],
   "source": [
    "print(contexts.shape)\n",
    "print(contexts[:2])\n",
    "print(targets[:2])"
   ]
  },
  {
   "cell_type": "markdown",
   "id": "a1271674-999e-4b20-a028-b336c336769a",
   "metadata": {},
   "source": [
    "\n",
    "Expected output should look similar to this (the indexes may not be the same):\n",
    "\n",
    "torch.Size([60972, 4])  \n",
    "tensor([[ 441, 1818, 3263, 3379],\n",
    "        [1818, 5013, 3379, 1883]])  \n",
    "tensor([5013, 3263])"
   ]
  },
  {
   "cell_type": "markdown",
   "id": "bceefc1f-fd2f-45b0-813a-ae93d8f33ff1",
   "metadata": {},
   "source": [
    "#### 2.2 The Model architecture"
   ]
  },
  {
   "cell_type": "markdown",
   "id": "97f70a4d-8799-465c-8922-5698630f3995",
   "metadata": {},
   "source": [
    "Here is an overview of the model's architecture and how a single example flows through the layers :  "
   ]
  },
  {
   "cell_type": "markdown",
   "id": "155fef6b-8fe4-4466-a7c6-5fbb1b2e7e18",
   "metadata": {},
   "source": [
    "\n",
    "<div style='text-align:center;'/><img src='Model_architecture.png'>"
   ]
  },
  {
   "cell_type": "markdown",
   "id": "b66c5284-faed-47df-8d0a-7ef60c98a389",
   "metadata": {},
   "source": [
    "Take a look at the XOR notebook to see how a model class is created in pytorch (how it subclasses nn.Module and the init function especially).\n",
    "\n",
    "You may add the `vocab_size` and number of embedding dimensions (`embedding_dim`) you want your embeddings to have (50 is a good choice) to the init parameters, so as to pass them in when you instantiate the model. \n",
    "\n",
    "Pytorch allows you to implement a special layer, called an embedding layer (`nn.Embedding`), which precisely serves the purpose of allowing you to train embeddings when training a model. Look at the the documentation to see what this layer takes as inputs : https://pytorch.org/docs/stable/generated/torch.nn.Embedding.html\n",
    "\n",
    "Then, add an output layer.  Be aware of the input and output sizes of the layer...  Take a look at the notebook on the XOR problem to see how to create a linear layer in pytorch.\n",
    "\n",
    "The `forward` function is the one that deals with the flow of data through the model.  In this case, it takes as input a *batch* of context vectors.\n",
    "This batch must first go through the embedding layer which returns 4 vectors (1 for each word) of equal dimension for each example in the batch.  \n",
    "If you have chosen a batch size of 128 and an embedding dimension of 50, then the output shape of the `nn.Embedding` layer will be:  (128, 4, 50):  128 matrices (one per example in the batch) of 4 by 50 (one 50 dimensional vector per context word).\n",
    "\n",
    "\n",
    "For each example in the batch, you will average these 4 vectors in order to obtain a single vector.  This means you must specifiy that the mean calculated has to be along dimension 1 (the one equal to 4).  This is why the model is called Continuous Bag of Words: we don’t really consider the order of the context words when averaging them...  So that information is lost.\n",
    "\n",
    "Then, all that is left is to pass the batch of averaged vectors to the output layer !\n",
    "\n",
    "No need to use the softmax function as a final activation function here, as this will be done automatically by the loss function in the training loop (cf. section 2.4)."
   ]
  },
  {
   "cell_type": "code",
   "execution_count": 8,
   "id": "fe1dfcc6-3695-442f-921f-fc8dcbef10f3",
   "metadata": {
    "collapsed": true,
    "jupyter": {
     "outputs_hidden": true
    },
    "tags": []
   },
   "outputs": [],
   "source": [
    "# Create the Neural Net\n",
    "\n",
    "class CBOW(torch.nn.Module):\n",
    "    def __init__(self, embedding_dim, vocab_size):\n",
    "        super(CBOW, self).__init__()\n",
    "\n",
    "        self.embedding_dim = embedding_dim\n",
    "\n",
    "        self.embeddings = nn.Embedding(vocab_size, embedding_dim)\n",
    "\n",
    "        self.linear_out = nn.Linear(embedding_dim, vocab_size, bias=True)\n",
    "\n",
    "\n",
    "    def forward(self, batch):\n",
    "        # get the embeddings from the Embedding layer and average them along dim=1.\n",
    "        # use .shape to see what shape the batch has before and after going through\n",
    "        # each layer if you need to\n",
    "\n",
    "        x = torch.mean(self.embeddings(batch), dim=1)\n",
    "\n",
    "        out = self.linear_out(x)\n",
    "\n",
    "        return out\n",
    "        # pass the batch through the output layer to get the logits\n",
    "        # the output should be a matrix with dimensions batch_size x vocab_size\n",
    "        "
   ]
  },
  {
   "cell_type": "code",
   "execution_count": 9,
   "id": "4b56d320-7eba-4130-af1e-6224784cc9d1",
   "metadata": {
    "collapsed": true,
    "jupyter": {
     "outputs_hidden": true
    },
    "tags": []
   },
   "outputs": [
    {
     "name": "stdout",
     "output_type": "stream",
     "text": [
      "CBOW(\n",
      "  (embeddings): Embedding(5775, 50)\n",
      "  (linear_out): Linear(in_features=50, out_features=5775, bias=True)\n",
      ")\n",
      "CBOW(\n",
      "  (embeddings): Embedding(5775, 100)\n",
      "  (linear_out): Linear(in_features=100, out_features=5775, bias=True)\n",
      ")\n",
      "CBOW(\n",
      "  (embeddings): Embedding(5775, 150)\n",
      "  (linear_out): Linear(in_features=150, out_features=5775, bias=True)\n",
      ")\n"
     ]
    }
   ],
   "source": [
    "# set random seed \n",
    "torch.manual_seed(42)\n",
    "#instantiate the model\n",
    "model_50 = CBOW(50, vocab_size)\n",
    "print(model_50)\n",
    "\n",
    "model_100 = CBOW(100, vocab_size)\n",
    "print(model_100)\n",
    "\n",
    "model_150 = CBOW(150, vocab_size)\n",
    "print(model_150)"
   ]
  },
  {
   "cell_type": "markdown",
   "id": "3e37598e-f290-4b7c-b884-3b83cb2f4321",
   "metadata": {},
   "source": [
    "Your model should look something like this :\n",
    "\n",
    "CBOW(  \n",
    "    (embeddings): Embedding(5775, 50)   \n",
    "    (output): Linear(in_features=50, out_features=5775, bias=True)  \n",
    ")"
   ]
  },
  {
   "cell_type": "markdown",
   "id": "6fff8ba7-4287-4ef9-83c3-0d5d078fa26b",
   "metadata": {},
   "source": [
    "#### 2.3 Visualizing word vectors before training"
   ]
  },
  {
   "cell_type": "markdown",
   "id": "50af9d26-23af-47e7-9879-92c2a9a1816c",
   "metadata": {},
   "source": [
    "To see if the model has had any effect on the word vectors (which are randomly initialized when you instantiate the model), it can be useful to compare the vectors for certain words before vs. after training.  In order to plot and visualize the vectors in 2D, we must however use an algorithm called *Principal Component Analysis (PCA)* to reduce the vectors' dimensions down to 2.  This can be easily done using `sklearn`.  \n",
    "\n",
    "In the cell below, you have a list of words which you can modifiy as you wish."
   ]
  },
  {
   "cell_type": "code",
   "execution_count": 10,
   "id": "d1120dd2-0adc-497a-842f-24dbdbe1ecad",
   "metadata": {},
   "outputs": [
    {
     "name": "stdout",
     "output_type": "stream",
     "text": [
      "[ 0.42233217 -2.7283454 ]\n",
      "[-6.9947357 -3.2549436]\n",
      "[-1.8370157  8.630182 ]\n"
     ]
    },
    {
     "data": {
      "text/plain": "<Figure size 432x288 with 1 Axes>",
      "image/png": "[encoded data removed]"
     },
     "metadata": {
      "needs_background": "light"
     },
     "output_type": "display_data"
    },
    {
     "data": {
      "text/plain": "<Figure size 432x288 with 1 Axes>",
      "image/png": "[encoded data removed]"
     },
     "metadata": {
      "needs_background": "light"
     },
     "output_type": "display_data"
    },
    {
     "data": {
      "text/plain": "<Figure size 432x288 with 1 Axes>",
      "image/png": "[encoded data removed]"
     },
     "metadata": {
      "needs_background": "light"
     },
     "output_type": "display_data"
    }
   ],
   "source": [
    "import numpy as np\n",
    "from sklearn.decomposition import PCA\n",
    "from matplotlib import pyplot\n",
    "\n",
    "# list of words to study\n",
    "words = ['man', 'woman', 'lord', 'lady', 'king', 'queen', 'her', 'him', 'he', 'she']\n",
    "\n",
    "# the embeddings for the words, randomly initialized by the model\n",
    "embeddings_50 = np.array([model_50.embeddings(torch.tensor(word2idx[word],dtype=torch.long)).detach().numpy()\n",
    "                       for word in words]).squeeze()\n",
    "embeddings_100 = np.array([model_100.embeddings(torch.tensor(word2idx[word],dtype=torch.long)).detach().numpy()\n",
    "                       for word in words]).squeeze()\n",
    "embeddings_150 = np.array([model_150.embeddings(torch.tensor(word2idx[word],dtype=torch.long)).detach().numpy()\n",
    "                       for word in words]).squeeze()\n",
    "\n",
    "# perform PCA (reduce to 2 dimensions)\n",
    "pca = PCA(n_components=2)\n",
    "reduced_50 = pca.fit_transform(embeddings_50)\n",
    "reduced_100 = pca.fit_transform(embeddings_100)\n",
    "reduced_150 = pca.fit_transform(embeddings_150)\n",
    "\n",
    "# get the 2D embedding reduction for the first word in the list, to track after training\n",
    "print(reduced_50[0])\n",
    "print(reduced_100[0])\n",
    "print(reduced_150[0])\n",
    "\n",
    "# plotting the 2D vectors\n",
    "pyplot.scatter(reduced_50[:,1], reduced_50[:, 0])\n",
    "for i, word in enumerate(words):\n",
    "    pyplot.annotate(word, xy=(reduced_50[i, 1], reduced_50[i, 0]))\n",
    "pyplot.title(\"model_50\")\n",
    "pyplot.show()\n",
    "\n",
    "pyplot.scatter(reduced_100[:,1], reduced_100[:, 0])\n",
    "for i, word in enumerate(words):\n",
    "    pyplot.annotate(word, xy=(reduced_100[i, 1], reduced_100[i, 0]))\n",
    "pyplot.title(\"model_100\")\n",
    "pyplot.show()\n",
    "\n",
    "pyplot.scatter(reduced_150[:,1], reduced_150[:, 0])\n",
    "for i, word in enumerate(words):\n",
    "    pyplot.annotate(word, xy=(reduced_150[i, 1], reduced_150[i, 0]))\n",
    "pyplot.title(\"model_150\")\n",
    "pyplot.show()"
   ]
  },
  {
   "cell_type": "markdown",
   "id": "bf2e7021-d626-4120-b783-34763c8c082f",
   "metadata": {},
   "source": [
    "#### **Question** : \n",
    "\n",
    "How would you expect the vectors to move ? Which word vectors should end up closer ?\n",
    "-> On peut s’attendre, à ce que les mots qui sont utilisés habituellement dans le même contexte soient proches."
   ]
  },
  {
   "cell_type": "markdown",
   "id": "f759c59f-e064-4d7d-8da0-1ffa743e1c4b",
   "metadata": {},
   "source": [
    "#### 2.4 Training Loop"
   ]
  },
  {
   "cell_type": "markdown",
   "id": "1449c12b-df5c-484e-8596-c75d2df88b91",
   "metadata": {},
   "source": [
    "Start by selecting the appropriate loss function and optimizer.  You may use `nn.CrossEntropyLoss()` as a loss function and `torch.optim.SGD` for the optimizer.  This optimizer is an implementation of the Gradient Descent algorithm and takes as arguments `model.parameters()`, the model's parameters, and `lr` the learning rate, which can be set to 0.03 when using batches of 128 (you may try different values).\n",
    "\n",
    "Next you can run the model for 150-200 epochs.  This should be able to run on your computer, but if not just copy paste all of the cells into a colab notebook.  The fact that we divided the training data into batches means each epoch should take approx. 10 secs instead of several minutes."
   ]
  },
  {
   "cell_type": "code",
   "execution_count": 11,
   "outputs": [],
   "source": [
    "loss_function = nn.CrossEntropyLoss()\n",
    "optimizer_50 = torch.optim.SGD(model_50.parameters(), lr=0.03)\n",
    "optimizer_100 = torch.optim.SGD(model_100.parameters(), lr=0.03)\n",
    "optimizer_150 = torch.optim.SGD(model_150.parameters(), lr=0.03)"
   ],
   "metadata": {
    "collapsed": false
   }
  },
  {
   "cell_type": "code",
   "execution_count": 18,
   "id": "06a08957-edaf-4501-a939-5254f62ee363",
   "metadata": {
    "tags": []
   },
   "outputs": [
    {
     "name": "stdout",
     "output_type": "stream",
     "text": [
      "CBOW(\n",
      "  (embeddings): Embedding(5775, 50)\n",
      "  (linear_out): Linear(in_features=50, out_features=5775, bias=True)\n",
      ") SGD (\n",
      "Parameter Group 0\n",
      "    dampening: 0\n",
      "    lr: 0.03\n",
      "    maximize: False\n",
      "    momentum: 0\n",
      "    nesterov: False\n",
      "    weight_decay: 0\n",
      ")\n",
      "Epoch 10 : 2339.8739783763885\n",
      "Epoch 20 : 2334.445039987564\n",
      "Epoch 30 : 2329.070972919464\n",
      "Epoch 40 : 2323.7500154972076\n",
      "Epoch 50 : 2318.4805653095245\n",
      "Epoch 60 : 2313.2610914707184\n",
      "Epoch 70 : 2308.0901968479156\n",
      "Epoch 80 : 2302.9664330482483\n",
      "Epoch 90 : 2297.88871049881\n",
      "Epoch 100 : 2292.855716228485\n",
      "Epoch 110 : 2287.8663742542267\n",
      "Epoch 120 : 2282.9196197986603\n",
      "Epoch 130 : 2278.0144929885864\n",
      "Epoch 140 : 2273.1500544548035\n",
      "Epoch 150 : 2268.3254356384277\n",
      "CBOW(\n",
      "  (embeddings): Embedding(5775, 100)\n",
      "  (linear_out): Linear(in_features=100, out_features=5775, bias=True)\n",
      ") SGD (\n",
      "Parameter Group 0\n",
      "    dampening: 0\n",
      "    lr: 0.03\n",
      "    maximize: False\n",
      "    momentum: 0\n",
      "    nesterov: False\n",
      "    weight_decay: 0\n",
      ")\n",
      "Epoch 10 : 2254.6139216423035\n",
      "Epoch 20 : 2245.868405818939\n",
      "Epoch 30 : 2237.239434480667\n",
      "Epoch 40 : 2228.721717119217\n",
      "Epoch 50 : 2220.3105947971344\n",
      "Epoch 60 : 2212.0016162395477\n",
      "Epoch 70 : 2203.7908630371094\n",
      "Epoch 80 : 2195.6745944023132\n",
      "Epoch 90 : 2187.6494624614716\n",
      "Epoch 100 : 2179.712324142456\n",
      "Epoch 110 : 2171.8601746559143\n",
      "Epoch 120 : 2164.0903794765472\n",
      "Epoch 130 : 2156.4003281593323\n",
      "Epoch 140 : 2148.7876925468445\n",
      "Epoch 150 : 2141.2502765655518\n",
      "CBOW(\n",
      "  (embeddings): Embedding(5775, 150)\n",
      "  (linear_out): Linear(in_features=150, out_features=5775, bias=True)\n",
      ") SGD (\n",
      "Parameter Group 0\n",
      "    dampening: 0\n",
      "    lr: 0.03\n",
      "    maximize: False\n",
      "    momentum: 0\n",
      "    nesterov: False\n",
      "    weight_decay: 0\n",
      ")\n",
      "Epoch 10 : 2108.339403986931\n",
      "Epoch 20 : 2097.7417546510696\n",
      "Epoch 30 : 2087.2885897159576\n",
      "Epoch 40 : 2076.974003314972\n",
      "Epoch 50 : 2066.7926911115646\n",
      "Epoch 60 : 2056.739713907242\n",
      "Epoch 70 : 2046.810538649559\n",
      "Epoch 80 : 2037.0009534358978\n",
      "Epoch 90 : 2027.3071385622025\n",
      "Epoch 100 : 2017.7254647016525\n",
      "Epoch 110 : 2008.252564549446\n",
      "Epoch 120 : 1998.8854101896286\n",
      "Epoch 130 : 1989.6211123466492\n",
      "Epoch 140 : 1980.457015633583\n",
      "Epoch 150 : 1971.3906002044678\n"
     ]
    }
   ],
   "source": [
    "# TRAINING WITH 150 EPOCHS\n",
    "import time\n",
    "\n",
    "#TRAINING\n",
    "# a few seconds per epoch\n",
    "# you can track the time passed per epoch by decommenting the time1 line and the print(time.time...) at the end.\n",
    "for model, optimizer in zip([model_50, model_100, model_150], [optimizer_50, optimizer_100, optimizer_150]):\n",
    "    cost = []\n",
    "    print(model, optimizer)\n",
    "    for epoch in range(150):\n",
    "        # time1 = time.time()\n",
    "\n",
    "        # initiliaze the total_loss for each epoch to 0\n",
    "        total_loss = 0\n",
    "\n",
    "        # the dataloader is a generator object, it produces a batch of contexts and targets if you iterate over it.\n",
    "        for contexts_batch, targets_batch in dataloader:\n",
    "\n",
    "            # get the logits\n",
    "            logits = model.forward(contexts_batch)\n",
    "\n",
    "            # calculate the loss by passing the logits and targets to the loss_function\n",
    "            loss = loss_function(logits, targets_batch)\n",
    "            cost.append(loss)\n",
    "\n",
    "            # add the loss value to the total_loss (use loss.item() to get only the value)\n",
    "            total_loss += loss.item()\n",
    "\n",
    "\n",
    "            # optimize the network using the three steps seen in the XOR notebook\n",
    "            optimizer.zero_grad()\n",
    "            loss.backward()\n",
    "            optimizer.step()\n",
    "\n",
    "\n",
    "\n",
    "        # track the loss by printing it every 10 epochs\n",
    "        if (epoch+1) % 10 == 0:\n",
    "            print(f'Epoch {epoch+1} : {total_loss}')\n",
    "\n",
    "        # print(time.time()-time1)"
   ]
  },
  {
   "cell_type": "code",
   "execution_count": 19,
   "outputs": [
    {
     "name": "stdout",
     "output_type": "stream",
     "text": [
      "[ 0.04013231 -0.71800935]\n"
     ]
    },
    {
     "data": {
      "text/plain": "<Figure size 432x288 with 1 Axes>",
      "image/png": "[encoded data removed]"
     },
     "metadata": {
      "needs_background": "light"
     },
     "output_type": "display_data"
    },
    {
     "name": "stdout",
     "output_type": "stream",
     "text": [
      "[-0.99692065  6.4549885 ]\n"
     ]
    },
    {
     "data": {
      "text/plain": "<Figure size 432x288 with 1 Axes>",
      "image/png": "[encoded data removed]"
     },
     "metadata": {
      "needs_background": "light"
     },
     "output_type": "display_data"
    },
    {
     "name": "stdout",
     "output_type": "stream",
     "text": [
      "[ 2.459992  -6.3855643]\n"
     ]
    },
    {
     "data": {
      "text/plain": "<Figure size 432x288 with 1 Axes>",
      "image/png": "[encoded data removed]"
     },
     "metadata": {
      "needs_background": "light"
     },
     "output_type": "display_data"
    }
   ],
   "source": [
    "# visualisation for 150 epochs\n",
    "for model in [model_50, model_100, model_150]:\n",
    "    embeddings = np.array([model.embeddings(torch.tensor(word2idx[word],dtype=torch.long)).detach().numpy()\n",
    "                           for word in words]).squeeze()\n",
    "\n",
    "    reduced = pca.fit_transform(embeddings)\n",
    "    print(reduced[0])\n",
    "\n",
    "    pyplot.scatter(reduced[:,1], reduced[:, 0])\n",
    "    for i, word in enumerate(words):\n",
    "        pyplot.annotate(word, xy=(reduced[i, 1], reduced[i, 0]))\n",
    "    pyplot.title(f\"{model}\")\n",
    "    pyplot.show()"
   ],
   "metadata": {
    "collapsed": false
   }
  },
  {
   "cell_type": "markdown",
   "source": [
    "### OBSERVATIONS\n",
    "For a training of 150 epochs, we observe the best results with the embedding of size 50, where, almost all the nouns are clustered together.\n",
    "For embeddings of size 100, if we mesure the cosine similarity between words that may appear in same contexts, as \"queen\" and \"woman\" or \"king\" and \"lord\", it is possible to assume that the results obtained are quite acceptable.\n",
    "However, with embeddings of size 150, the results are not making any sense."
   ],
   "metadata": {
    "collapsed": false
   }
  },
  {
   "cell_type": "code",
   "execution_count": 15,
   "outputs": [
    {
     "name": "stdout",
     "output_type": "stream",
     "text": [
      "CBOW(\n",
      "  (embeddings): Embedding(5775, 50)\n",
      "  (linear_out): Linear(in_features=50, out_features=5775, bias=True)\n",
      ") SGD (\n",
      "Parameter Group 0\n",
      "    dampening: 0\n",
      "    lr: 0.03\n",
      "    maximize: False\n",
      "    momentum: 0\n",
      "    nesterov: False\n",
      "    weight_decay: 0\n",
      ")\n",
      "Epoch 10 : 2464.1775896549225\n",
      "Epoch 20 : 2456.998422384262\n",
      "Epoch 30 : 2449.951005935669\n",
      "Epoch 40 : 2443.0314178466797\n",
      "Epoch 50 : 2436.2331886291504\n",
      "Epoch 60 : 2429.549967765808\n",
      "Epoch 70 : 2422.9757809638977\n",
      "Epoch 80 : 2416.5050172805786\n",
      "Epoch 90 : 2410.1325013637543\n",
      "Epoch 100 : 2403.8533837795258\n",
      "Epoch 110 : 2397.663181781769\n",
      "Epoch 120 : 2391.5577993392944\n",
      "Epoch 130 : 2385.5333132743835\n",
      "Epoch 140 : 2379.5862243175507\n",
      "Epoch 150 : 2373.7132127285004\n",
      "Epoch 160 : 2367.9111952781677\n",
      "Epoch 170 : 2362.177384376526\n",
      "Epoch 180 : 2356.509144306183\n",
      "Epoch 190 : 2350.903971672058\n",
      "Epoch 200 : 2345.3596036434174\n",
      "CBOW(\n",
      "  (embeddings): Embedding(5775, 100)\n",
      "  (linear_out): Linear(in_features=100, out_features=5775, bias=True)\n",
      ") SGD (\n",
      "Parameter Group 0\n",
      "    dampening: 0\n",
      "    lr: 0.03\n",
      "    maximize: False\n",
      "    momentum: 0\n",
      "    nesterov: False\n",
      "    weight_decay: 0\n",
      ")\n",
      "Epoch 10 : 2471.397914171219\n",
      "Epoch 20 : 2457.233510494232\n",
      "Epoch 30 : 2443.6614582538605\n",
      "Epoch 40 : 2430.6169521808624\n",
      "Epoch 50 : 2418.043375968933\n",
      "Epoch 60 : 2405.8910100460052\n",
      "Epoch 70 : 2394.1164350509644\n",
      "Epoch 80 : 2382.681886434555\n",
      "Epoch 90 : 2371.5546293258667\n",
      "Epoch 100 : 2360.7064592838287\n",
      "Epoch 110 : 2350.1128499507904\n",
      "Epoch 120 : 2339.7527096271515\n",
      "Epoch 130 : 2329.607566356659\n",
      "Epoch 140 : 2319.6614413261414\n",
      "Epoch 150 : 2309.9002690315247\n",
      "Epoch 160 : 2300.3116676807404\n",
      "Epoch 170 : 2290.8846945762634\n",
      "Epoch 180 : 2281.6096365451813\n",
      "Epoch 190 : 2272.4778645038605\n",
      "Epoch 200 : 2263.481607437134\n",
      "CBOW(\n",
      "  (embeddings): Embedding(5775, 150)\n",
      "  (linear_out): Linear(in_features=150, out_features=5775, bias=True)\n",
      ") SGD (\n",
      "Parameter Group 0\n",
      "    dampening: 0\n",
      "    lr: 0.03\n",
      "    maximize: False\n",
      "    momentum: 0\n",
      "    nesterov: False\n",
      "    weight_decay: 0\n",
      ")\n",
      "Epoch 10 : 2368.7015731334686\n",
      "Epoch 20 : 2352.033432006836\n",
      "Epoch 30 : 2336.011322259903\n",
      "Epoch 40 : 2320.5567450523376\n",
      "Epoch 50 : 2305.605686903\n",
      "Epoch 60 : 2291.1053652763367\n",
      "Epoch 70 : 2277.0116713047028\n",
      "Epoch 80 : 2263.287291765213\n",
      "Epoch 90 : 2249.900461435318\n",
      "Epoch 100 : 2236.8238756656647\n",
      "Epoch 110 : 2224.0338673591614\n",
      "Epoch 120 : 2211.5097806453705\n",
      "Epoch 130 : 2199.233507871628\n",
      "Epoch 140 : 2187.1890144348145\n",
      "Epoch 150 : 2175.362098455429\n",
      "Epoch 160 : 2163.7400200366974\n",
      "Epoch 170 : 2152.311317205429\n",
      "Epoch 180 : 2141.0657609701157\n",
      "Epoch 190 : 2129.9940705299377\n",
      "Epoch 200 : 2119.087832570076\n"
     ]
    }
   ],
   "source": [
    "# TRAINING WITH 200 EPOCHS\n",
    "import time\n",
    "\n",
    "#TRAINING\n",
    "# a few seconds per epoch\n",
    "# you can track the time passed per epoch by decommenting the time1 line and the print(time.time...) at the end.\n",
    "for model, optimizer in zip([model_50, model_100, model_150], [optimizer_50, optimizer_100, optimizer_150]):\n",
    "    cost = []\n",
    "    print(model, optimizer)\n",
    "    for epoch in range(200):\n",
    "        # time1 = time.time()\n",
    "\n",
    "        # initiliaze the total_loss for each epoch to 0\n",
    "        total_loss = 0\n",
    "\n",
    "        # the dataloader is a generator object, it produces a batch of contexts and targets if you iterate over it.\n",
    "        for contexts_batch, targets_batch in dataloader:\n",
    "\n",
    "            # get the logits\n",
    "            logits = model.forward(contexts_batch)\n",
    "\n",
    "            # calculate the loss by passing the logits and targets to the loss_function\n",
    "            loss = loss_function(logits, targets_batch)\n",
    "            cost.append(loss)\n",
    "\n",
    "            # add the loss value to the total_loss (use loss.item() to get only the value)\n",
    "            total_loss += loss.item()\n",
    "\n",
    "\n",
    "            # optimize the network using the three steps seen in the XOR notebook\n",
    "            optimizer.zero_grad()\n",
    "            loss.backward()\n",
    "            optimizer.step()\n",
    "\n",
    "\n",
    "\n",
    "        # track the loss by printing it every 10 epochs\n",
    "        if (epoch+1) % 10 == 0:\n",
    "            print(f'Epoch {epoch+1} : {total_loss}')\n",
    "\n",
    "        # print(time.time()-time1)"
   ],
   "metadata": {
    "collapsed": false
   }
  },
  {
   "cell_type": "markdown",
   "id": "5324aef8-3f6a-41fc-badd-9357670650c8",
   "metadata": {},
   "source": [
    "#### 2.5 Visualizing word vectors before training\n",
    "\n",
    "Using the same list of words as before, the next cell plots the new word vectors.  What has changed ? Do the results seem to verify your hypotheses ?  \n",
    "How do you think the results could be improved ?\n",
    "\n",
    "You can try changing the hyperparameters to see if they have any impact.  These include :\n",
    "* batch size\n",
    "* number of embedding dimensions\n",
    "* learning rate\n",
    "* number of epochs"
   ]
  },
  {
   "cell_type": "code",
   "execution_count": 16,
   "outputs": [
    {
     "name": "stdout",
     "output_type": "stream",
     "text": [
      "[-0.09200789 -1.2350956 ]\n"
     ]
    },
    {
     "data": {
      "text/plain": "<Figure size 432x288 with 1 Axes>",
      "image/png": "[encoded data removed]"
     },
     "metadata": {
      "needs_background": "light"
     },
     "output_type": "display_data"
    },
    {
     "name": "stdout",
     "output_type": "stream",
     "text": [
      "[1.1163644 6.888304 ]\n"
     ]
    },
    {
     "data": {
      "text/plain": "<Figure size 432x288 with 1 Axes>",
      "image/png": "[encoded data removed]"
     },
     "metadata": {
      "needs_background": "light"
     },
     "output_type": "display_data"
    },
    {
     "name": "stdout",
     "output_type": "stream",
     "text": [
      "[2.6657608 7.3416066]\n"
     ]
    },
    {
     "data": {
      "text/plain": "<Figure size 432x288 with 1 Axes>",
      "image/png": "[encoded data removed]"
     },
     "metadata": {
      "needs_background": "light"
     },
     "output_type": "display_data"
    }
   ],
   "source": [
    "# visualisation for 200 epochs\n",
    "for model in [model_50, model_100, model_150]:\n",
    "    embeddings = np.array([model.embeddings(torch.tensor(word2idx[word],dtype=torch.long)).detach().numpy()\n",
    "                           for word in words]).squeeze()\n",
    "\n",
    "    reduced = pca.fit_transform(embeddings)\n",
    "    print(reduced[0])\n",
    "\n",
    "    pyplot.scatter(reduced[:,1], reduced[:, 0])\n",
    "    for i, word in enumerate(words):\n",
    "        pyplot.annotate(word, xy=(reduced[i, 1], reduced[i, 0]))\n",
    "    pyplot.title(f\"{model}\")\n",
    "    pyplot.show()"
   ],
   "metadata": {
    "collapsed": false
   }
  },
  {
   "cell_type": "markdown",
   "source": [
    "### OBSERVATIONS\n",
    "A training of 200 epochs seems to not make sense and does not bring any improvement to the results.\n",
    "In conclusion, the best results we obtained was with a training of 150 epochs and embeddings of size 50.\n",
    "To improve our model, a solution could to add some hidden layers as we add epochs to the training."
   ],
   "metadata": {
    "collapsed": false
   }
  }
 ],
 "metadata": {
  "kernelspec": {
   "display_name": "Python 3 (ipykernel)",
   "language": "python",
   "name": "python3"
  },
  "language_info": {
   "codemirror_mode": {
    "name": "ipython",
    "version": 3
   },
   "file_extension": ".py",
   "mimetype": "text/x-python",
   "name": "python",
   "nbconvert_exporter": "python",
   "pygments_lexer": "ipython3",
   "version": "3.9.7"
  }
 },
 "nbformat": 4,
 "nbformat_minor": 5
}
